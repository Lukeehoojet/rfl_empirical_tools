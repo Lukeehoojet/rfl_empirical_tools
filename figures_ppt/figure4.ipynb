{
 "cells": [
  {
   "cell_type": "code",
   "execution_count": null,
   "metadata": {},
   "outputs": [],
   "source": [
    "import matplotlib.pyplot as plt\n",
    "import numpy as np\n",
    "\n",
    "\n",
    "label_font_conf = {\n",
    "    # \"weight\": \"bold\",\n",
    "    \"size\": \"22\"\n",
    "}\n",
    "labels = ['rust', 'bugs', 'build', 'drivers', 'abstraction']\n",
    "# 日期数据\n",
    "dates = ['23/7', '23/3', '23/1', '22/10', '22/7', '22/4', '22/1']\n",
    "dates.reverse()\n",
    "# 对应的百分比数据\n",
    "percentages = np.array([\n",
    "    [57.55814, 65.92357, 55.30864, 38.91213, 26.31579, 57.57576, 18.84058],\n",
    "    [26.45349, 9.12951, 4.69136, 15.06276, 15.78947, 9.09091, 19.32367],\n",
    "    [12.7907,7.431,33.08642,43.51464,57.89474,33.33333,58.9372],\n",
    "    [0.5814, 1.06157, 3.20988, 0.83682, 0, 0, 2.89855],\n",
    "    [2.61628, 16.45435, 3.7037, 1.67364, 0, 0, 0],\n",
    "])\n",
    "# 创建画布和子图\n",
    "fig, ax = plt.subplots(figsize=(9,5),dpi=100)\n",
    "\n",
    "# 绘制折线图\n",
    "markers = ['o', '^', 'x', '+', '.']\n",
    "colors = ['b', 'r', 'g', 'y', 'purple']\n",
    "for i, per in enumerate(percentages):\n",
    "    per = per[::-1]\n",
    "    ax.plot(dates, per, marker=markers[i], linestyle='-', color=colors[i], linewidth=1.2, label=labels[i])\n",
    "\n",
    "# 设置横轴和纵轴标签\n",
    "ax.set_xlabel('Time', **label_font_conf)\n",
    "ax.set_ylabel('Percentage (%)', **label_font_conf)\n",
    "\n",
    "# 显示网格线\n",
    "ax.grid(axis='y', alpha=0.3)\n",
    "\n",
    "ax.tick_params(labelsize=18)\n",
    "\n",
    "# 显示图形\n",
    "plt.tight_layout()\n",
    "plt.legend(loc='lower left', ncol=3, bbox_to_anchor=(0, 1), frameon=False, fontsize=16)\n",
    "# plt.show()\n",
    "plt.savefig('./figure4.pdf', bbox_inches=\"tight\")\n"
   ]
  }
 ],
 "metadata": {
  "language_info": {
   "name": "python"
  }
 },
 "nbformat": 4,
 "nbformat_minor": 2
}
